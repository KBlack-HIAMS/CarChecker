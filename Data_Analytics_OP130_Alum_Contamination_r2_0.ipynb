{
  "cells": [
    {
      "cell_type": "markdown",
      "metadata": {
        "id": "view-in-github",
        "colab_type": "text"
      },
      "source": [
        "<a href=\"https://colab.research.google.com/github/KBlack-HIAMS/CarChecker/blob/master/Data_Analytics_OP130_Alum_Contamination_r2_0.ipynb\" target=\"_parent\"><img src=\"https://colab.research.google.com/assets/colab-badge.svg\" alt=\"Open In Colab\"/></a>"
      ]
    },
    {
      "cell_type": "code",
      "execution_count": null,
      "id": "0d095afd",
      "metadata": {
        "id": "0d095afd"
      },
      "outputs": [],
      "source": [
        "# Imports for data file selection and processing\n",
        "from ipywidgets import *\n",
        "from ipywidgets import Button\n",
        "from IPython.display import clear_output, display\n",
        "import tkinter as tk\n",
        "from tkinter import Tk, filedialog, messagebox\n",
        "import os\n",
        "from datetime import datetime\n",
        "import re\n",
        "\n",
        "# General imports\n",
        "import pandas as pd\n",
        "import numpy as np\n",
        "import matplotlib.pyplot as plt\n",
        "\n",
        "class DataFilename:\n",
        "    def __init__(self,filename):\n",
        "        self.filename = filename\n",
        "        \n",
        "\n",
        "def select_files(b):\n",
        "    filetypes = (\n",
        "        ('comma-delimited','*.csv'),\n",
        "        ('text files','*.txt')\n",
        "    )\n",
        "    clear_output()                                         # Button is deleted after it is clicked.\n",
        "    root = Tk()\n",
        "    root.withdraw()                                        # Hide the main window.\n",
        "    root.call('wm', 'attributes', '.', '-topmost', True)   # Raise the root to the top of all windows.\n",
        "    b.files = filedialog.askopenfilename(\n",
        "        title='Please select target data files...',\n",
        "        filetypes=filetypes,multiple=True\n",
        "    )                                                      # List of selected files will be set button's file attribute.\n",
        "    print(b.files)                                         # Print the list of files selected.\n",
        "    fName.filename = b.files                               # Assign user selected filename to class instance variable\n",
        "    \n",
        "def select_file():\n",
        "    filetypes = (\n",
        "        ('comma-delimited','*.csv'),\n",
        "        ('text files','*.txt')\n",
        "    )\n",
        "    \n",
        "    fName.filename = filedialog.askopenfilename(\n",
        "        title='Please select target data file...',\n",
        "        filetypes=filetypes,\n",
        "        multiple=False\n",
        "    )\n",
        "\n",
        "def msgbox_showMsg(msgTitle, msgText):\n",
        "    clear_output()                                         # Button is deleted after it is clicked.\n",
        "    root = Tk()\n",
        "    root.withdraw()                                        # Hide the main window.\n",
        "    root.call('wm', 'attributes', '.', '-topmost', True)   # Raise the root to the top of all windows.\n",
        "    tk.messagebox.showinfo(title=msgTitle,message=msgText)\n",
        "    \n",
        "def read_dataFile(df_out):\n",
        "    # selected file path list has been saved into class variable fName.filename\n",
        "    # iterate over file path list, opening each file, and appending file data to master data file\n",
        "    # we want to combine all files into one data file, while keeping the header information (without duplication)\n",
        "    \n",
        "    if(len(fName.filename)>0):\n",
        "        # initialize master dataframe for appending using first file read\n",
        "        df_out = pd.read_csv(fName.filename[0])\n",
        "        \n",
        "        if(len(fName.filename)>1):\n",
        "            for i in range(1,len(fName.filename)):\n",
        "                df_inFile = pd.read_csv(fName.filename[i])\n",
        "                df_out = pd.concat([df_out,df_inFile], ignore_index=True)\n",
        "                \n",
        "    return df_out\n",
        "\n",
        "\n",
        "\n",
        "# **==============================================================================**\n",
        "# start of script\n",
        "# create file select instance\n",
        "fName = DataFilename('')\n",
        "\n",
        "# create empty dataframe for reading in data from previously processed datafile\n",
        "df_op130_cleaned = pd.DataFrame()\n",
        "\n",
        "\n",
        "# prompt user to select target data file\n",
        "msgbox_showMsg(\"Info\",\"Please select target OP130 data file(s)...\")\n",
        "\n",
        "fileselect = Button(description=\"File select\")\n",
        "fileselect.on_click(select_files)\n",
        "display(fileselect)"
      ]
    },
    {
      "cell_type": "code",
      "execution_count": null,
      "id": "4676687f",
      "metadata": {
        "id": "4676687f"
      },
      "outputs": [],
      "source": [
        "# selected file path list has been saved into class variable fName.filename\n",
        "\n",
        "df_op130_cleaned = read_dataFile(df_op130_cleaned)"
      ]
    },
    {
      "cell_type": "code",
      "execution_count": null,
      "id": "6277246a",
      "metadata": {
        "id": "6277246a"
      },
      "outputs": [],
      "source": [
        "df_op130_cleaned.head()"
      ]
    },
    {
      "cell_type": "markdown",
      "id": "4d4eb1dd",
      "metadata": {
        "id": "4d4eb1dd"
      },
      "source": [
        "# Select Analysis Output Type\n",
        "We need to view/plot VDP4 Assembly defect data with respect to pump assembly date and alternatively to BODY-FRONT machining date.\n",
        "\n",
        "## Sort Analysis w.r.t. Pump Assembly Date"
      ]
    },
    {
      "cell_type": "code",
      "execution_count": null,
      "id": "9bfce11e",
      "metadata": {
        "id": "9bfce11e"
      },
      "outputs": [],
      "source": [
        "pivot_count = df_op130_cleaned.pivot_table(values='workid', \n",
        "                                           index='Assy_week', \n",
        "                                           columns='OP130_Result', \n",
        "                                           aggfunc=pd.Series.nunique, \n",
        "                                           fill_value='0')"
      ]
    },
    {
      "cell_type": "code",
      "execution_count": null,
      "id": "681acd5d",
      "metadata": {
        "id": "681acd5d"
      },
      "outputs": [],
      "source": [
        "# verify output\n",
        "print(pivot_count)"
      ]
    },
    {
      "cell_type": "code",
      "execution_count": null,
      "id": "4f680818",
      "metadata": {
        "id": "4f680818"
      },
      "outputs": [],
      "source": [
        "# save pivot table results to excel (.csv) file\n",
        "now = datetime.now()\n",
        "f_time = now.strftime('%Y%m%d-%H%M%S')\n",
        "f_name = 'OP130A_pivot-data_r2-' + f_time + '.csv'\n",
        "pivot_count.to_csv(f_name,index=True)"
      ]
    },
    {
      "cell_type": "markdown",
      "id": "491dc2f5",
      "metadata": {
        "id": "491dc2f5"
      },
      "source": [
        "## Sort Analysis w.r.t. BODY-FRONT Machining Date"
      ]
    },
    {
      "cell_type": "code",
      "execution_count": null,
      "id": "6fb69a8e",
      "metadata": {
        "id": "6fb69a8e"
      },
      "outputs": [],
      "source": [
        "pivot_count = df_op130_cleaned.pivot_table(values='workid', \n",
        "                                           index='BODY-FRONT_Mach.Date', \n",
        "                                           columns='OP130_Result', \n",
        "                                           aggfunc=pd.Series.nunique, \n",
        "                                           fill_value='0')"
      ]
    },
    {
      "cell_type": "code",
      "execution_count": null,
      "id": "7c18bde0",
      "metadata": {
        "id": "7c18bde0"
      },
      "outputs": [],
      "source": [
        "# save pivot table results to excel (.csv) file\n",
        "now = datetime.now()\n",
        "f_time = now.strftime('%Y%m%d-%H%M%S')\n",
        "f_name = 'OP130M_pivot-data_r2-' + f_time + '.csv'\n",
        "pivot_count.to_csv(f_name,index=True)"
      ]
    },
    {
      "cell_type": "code",
      "execution_count": null,
      "id": "0129c8b8",
      "metadata": {
        "id": "0129c8b8"
      },
      "outputs": [],
      "source": [
        "# verify output\n",
        "print(pivot_count)"
      ]
    },
    {
      "cell_type": "code",
      "execution_count": null,
      "id": "0c0e785d",
      "metadata": {
        "id": "0c0e785d"
      },
      "outputs": [],
      "source": [
        ""
      ]
    }
  ],
  "metadata": {
    "kernelspec": {
      "display_name": "Python 3",
      "language": "python",
      "name": "python3"
    },
    "language_info": {
      "codemirror_mode": {
        "name": "ipython",
        "version": 3
      },
      "file_extension": ".py",
      "mimetype": "text/x-python",
      "name": "python",
      "nbconvert_exporter": "python",
      "pygments_lexer": "ipython3",
      "version": "3.8.8"
    },
    "colab": {
      "name": "Data Analytics_OP130 Alum. Contamination_r2.0.ipynb",
      "provenance": [],
      "collapsed_sections": [],
      "include_colab_link": true
    }
  },
  "nbformat": 4,
  "nbformat_minor": 5
}